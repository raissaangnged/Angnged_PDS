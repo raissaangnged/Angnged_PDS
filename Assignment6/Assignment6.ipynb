{
 "cells": [
  {
   "cell_type": "markdown",
   "id": "24b98369-c7ba-450b-a8b5-e34319000695",
   "metadata": {
    "slideshow": {
     "slide_type": "slide"
    },
    "tags": []
   },
   "source": [
    "# Python for Data Science\n",
    "## Session 6\n",
    "### Datasets – Pandas I "
   ]
  },
  {
   "cell_type": "markdown",
   "id": "ae883a57",
   "metadata": {
    "slideshow": {
     "slide_type": "slide"
    }
   },
   "source": [
    "## Pandas I\n",
    "\n",
    "Home exercises for Netflix:\n",
    "\n",
    "1. Is there any missing rating?\n",
    "2. How many films in 2021 correspond to your country?\n",
    "3. What's the number of movies in 2020 with full information?\n",
    "4. Give me the year with more titles,\n",
    "5. and what has been the average in terms of releases from 2010. \n",
    "\n",
    "And for Titanic:\n",
    "\n",
    "1. Calculate Gender-Based Survival Percentage\n",
    "\n",
    "2. Calculate Survival Percentage Grouped by Gender and Class"
   ]
  },
  {
   "cell_type": "markdown",
   "id": "85f6bbf4",
   "metadata": {},
   "source": [
    "For Nexflix:\n",
    "1. Is there any missing rating?"
   ]
  },
  {
   "cell_type": "code",
   "execution_count": 1,
   "id": "d05c4735",
   "metadata": {},
   "outputs": [],
   "source": [
    "import pandas as pd\n",
    "path = 'netflix_titles.csv'\n",
    "\n",
    "df = pd.read_csv(path)"
   ]
  },
  {
   "cell_type": "code",
   "execution_count": 2,
   "id": "e76597b5",
   "metadata": {},
   "outputs": [
    {
     "name": "stdout",
     "output_type": "stream",
     "text": [
      "There are 4 missing rating values.\n"
     ]
    }
   ],
   "source": [
    "#Display number of missing ratings\n",
    "missing_rating = df['rating'].isna().sum()\n",
    "print(f'There are {missing_rating} missing rating values.')\n"
   ]
  },
  {
   "cell_type": "markdown",
   "id": "a18fdcd7",
   "metadata": {},
   "source": [
    "2. How many films in 2021 correspond to your country?"
   ]
  },
  {
   "cell_type": "code",
   "execution_count": 3,
   "id": "60a986ca",
   "metadata": {},
   "outputs": [
    {
     "name": "stdout",
     "output_type": "stream",
     "text": [
      "There are 0 Filipino films and 14 Spanish films in 2021\n"
     ]
    }
   ],
   "source": [
    "#Use len to get number of films in 2021 corresponding to these countries:\n",
    "ph_2021 = len(df[(df['country'] == 'Philippines') & (df['release_year'] == 2021)])\n",
    "spain_2021 = len(df[(df['country'] == 'Spain') & (df['release_year'] == 2021)])\n",
    "\n",
    "print(f'There are {ph_2021} Filipino films and {spain_2021} Spanish films in 2021')"
   ]
  },
  {
   "cell_type": "markdown",
   "id": "9fba4e8d",
   "metadata": {},
   "source": [
    "3. What's the number of movies in 2020 with full information?"
   ]
  },
  {
   "cell_type": "code",
   "execution_count": 4,
   "id": "49c87aef",
   "metadata": {},
   "outputs": [
    {
     "name": "stdout",
     "output_type": "stream",
     "text": [
      "There are 409 movies in 2020 with full information\n"
     ]
    }
   ],
   "source": [
    "#Filter to only movies with full information\n",
    "movies = df[(df['type'] == 'Movie') & (df['release_year'] == 2020)]\n",
    "full_info = len(movies.dropna())\n",
    "\n",
    "print(f'There are {full_info} movies in 2020 with full information')"
   ]
  },
  {
   "cell_type": "markdown",
   "id": "c7d1d2ca",
   "metadata": {},
   "source": [
    "4. Give me the year with more titles,"
   ]
  },
  {
   "cell_type": "code",
   "execution_count": 5,
   "id": "f559e511",
   "metadata": {},
   "outputs": [
    {
     "name": "stdout",
     "output_type": "stream",
     "text": [
      "2018 is the year with the most titles released, with 1147 new titles\n"
     ]
    }
   ],
   "source": [
    "#Count the number of titles per year\n",
    "yearly_titles = df['release_year'].value_counts()\n",
    "\n",
    "#Get the year and count of the most titles\n",
    "most_titles = yearly_titles.idxmax()\n",
    "number_most_titles = yearly_titles.max()\n",
    "\n",
    "print(f'{most_titles} is the year with the most titles released, with {number_most_titles} new titles')"
   ]
  },
  {
   "cell_type": "markdown",
   "id": "dab4a565",
   "metadata": {},
   "source": [
    "5. and what has been the average in terms of releases from 2010. "
   ]
  },
  {
   "cell_type": "code",
   "execution_count": 6,
   "id": "cf99fa7c",
   "metadata": {},
   "outputs": [
    {
     "name": "stdout",
     "output_type": "stream",
     "text": [
      "Since 2010, the yearly average of movies released yearly is 622.67\n"
     ]
    }
   ],
   "source": [
    "#Filter to all movies from 2010 onwards\n",
    "releases_from_2010 = df[df['release_year'] >= 2010]\n",
    "\n",
    "#Yearly average of releases\n",
    "yearly_releases = releases_from_2010['release_year'].value_counts().mean()\n",
    "\n",
    "print(f'Since 2010, the yearly average of movies released yearly is {yearly_releases:.2f}')"
   ]
  },
  {
   "cell_type": "markdown",
   "id": "4948ea27",
   "metadata": {},
   "source": [
    "For Titanic:\n",
    "1. Calculate Gender-Based Survival Percentage"
   ]
  },
  {
   "cell_type": "code",
   "execution_count": 7,
   "id": "45bb5b15",
   "metadata": {},
   "outputs": [],
   "source": [
    "path = 'train_and_test2.csv'\n",
    "\n",
    "titanic = pd.read_csv(path)"
   ]
  },
  {
   "cell_type": "code",
   "execution_count": 8,
   "id": "844b4b93",
   "metadata": {},
   "outputs": [
    {
     "name": "stdout",
     "output_type": "stream",
     "text": [
      "The survival rate for 0 gender is 12.93%\n",
      "The survival rate for 1 gender is 50.00%\n"
     ]
    }
   ],
   "source": [
    "#Group by sex and get the average count of survival\n",
    "gender_survival = titanic.groupby('Sex')['2urvived'].mean() * 100\n",
    "\n",
    "for gender, rate in gender_survival.items():\n",
    "    print(f'The survival rate for {gender} gender is {rate:.2f}%')"
   ]
  },
  {
   "cell_type": "markdown",
   "id": "278b6ac9",
   "metadata": {},
   "source": [
    "2. Calculate Survival Percentage Grouped by Gender and Class"
   ]
  },
  {
   "cell_type": "code",
   "execution_count": 9,
   "id": "66419a07",
   "metadata": {},
   "outputs": [
    {
     "name": "stdout",
     "output_type": "stream",
     "text": [
      "The survival rate for 0 gender and 1 class is 25.14%\n",
      "The survival rate for 0 gender and 2 class is 9.94%\n",
      "The survival rate for 0 gender and 3 class is 9.53%\n",
      "The survival rate for 1 gender and 1 class is 63.19%\n",
      "The survival rate for 1 gender and 2 class is 66.04%\n",
      "The survival rate for 1 gender and 3 class is 33.33%\n"
     ]
    }
   ],
   "source": [
    "#Group by gender and class, and get the average count of survival\n",
    "gender_class_survival = titanic.groupby(['Sex', 'Pclass'])['2urvived'].mean() * 100\n",
    "\n",
    "for (gender, pclass), rate in gender_class_survival.items():\n",
    "    print(f'The survival rate for {gender} gender and {pclass} class is {rate:.2f}%')"
   ]
  }
 ],
 "metadata": {
  "celltoolbar": "Slideshow",
  "kernelspec": {
   "display_name": ".conda",
   "language": "python",
   "name": "python3"
  },
  "language_info": {
   "codemirror_mode": {
    "name": "ipython",
    "version": 3
   },
   "file_extension": ".py",
   "mimetype": "text/x-python",
   "name": "python",
   "nbconvert_exporter": "python",
   "pygments_lexer": "ipython3",
   "version": "3.12.7"
  }
 },
 "nbformat": 4,
 "nbformat_minor": 5
}
